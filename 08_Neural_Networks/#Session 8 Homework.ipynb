{
 "cells": [
  {
   "cell_type": "code",
   "execution_count": 120,
   "metadata": {},
   "outputs": [],
   "source": [
    "import numpy as np\n",
    "import matplotlib.pyplot as plt\n",
    "\n",
    "%matplotlib inline"
   ]
  },
  {
   "cell_type": "code",
   "execution_count": 121,
   "metadata": {},
   "outputs": [],
   "source": [
    "import tensorflow as tf\n",
    "from tensorflow import keras\n",
    "\n",
    "from tensorflow.keras.preprocessing.image import ImageDataGenerator\n",
    "from tensorflow.keras.preprocessing.image import load_img\n",
    "\n",
    "from tensorflow.keras.applications.xception import preprocess_input"
   ]
  },
  {
   "cell_type": "code",
   "execution_count": 122,
   "metadata": {},
   "outputs": [],
   "source": [
    "import glob\n",
    "import shutil\n",
    "import os\n",
    "\n",
    "src_dir = \"./train\"\n",
    "dst_dir = \"./dogs-and-cats-dataset/train/cats\"\n",
    "\n",
    "for i in range(10000):\n",
    "    for jpgfile in glob.iglob(os.path.join(src_dir, \"cat.{}.jpg\".format(i))):\n",
    "        shutil.copy(jpgfile, dst_dir)\n",
    "        \n",
    "src_dir = \"./train\"\n",
    "dst_dir = \"./dogs-and-cats-dataset/train/dogs\"\n",
    "\n",
    "for i in range(10000):\n",
    "    for jpgfile in glob.iglob(os.path.join(src_dir, \"dog.{}.jpg\".format(i))):\n",
    "        shutil.copy(jpgfile, dst_dir)\n",
    "        \n",
    "src_dir = \"./train\"\n",
    "dst_dir = \"./dogs-and-cats-dataset/validation/cats\"\n",
    "\n",
    "for i in range(10000, 12500):\n",
    "    for jpgfile in glob.iglob(os.path.join(src_dir, \"cat.{}.jpg\".format(i))):\n",
    "        shutil.copy(jpgfile, dst_dir)\n",
    "        \n",
    "src_dir = \"./train\"\n",
    "dst_dir = \"./dogs-and-cats-dataset/validation/dogs\"\n",
    "\n",
    "for i in range(10000, 12500):\n",
    "    for jpgfile in glob.iglob(os.path.join(src_dir, \"dog.{}.jpg\".format(i))):\n",
    "        shutil.copy(jpgfile, dst_dir)"
   ]
  },
  {
   "cell_type": "code",
   "execution_count": 137,
   "metadata": {},
   "outputs": [],
   "source": [
    "src_dir = \"./test/test\"\n",
    "dst_dir = \"./dogs-and-cats-dataset/test\"\n",
    "\n",
    "for jpgfile in glob.iglob(os.path.join(src_dir, \"*.jpg\")):\n",
    "    shutil.copy(jpgfile, dst_dir)"
   ]
  },
  {
   "cell_type": "code",
   "execution_count": 123,
   "metadata": {},
   "outputs": [],
   "source": [
    "def make_model(input_size):\n",
    "    \n",
    "    inputs = keras.Input(shape=(input_size, input_size, 3))\n",
    "    \n",
    "    convolution_layer = keras.layers.Conv2D(32, 3, activation='relu')(inputs)\n",
    "    \n",
    "    maxpool_layer = keras.layers.MaxPooling2D(pool_size=(2, 2))(convolution_layer)\n",
    "    \n",
    "    vectors = keras.layers.Flatten()(maxpool_layer)\n",
    "    \n",
    "    inner = keras.layers.Dense(64, activation='relu')(vectors)\n",
    "        \n",
    "    outputs = keras.layers.Dense(1, activation='sigmoid')(inner)\n",
    "    \n",
    "    model = keras.Model(inputs, outputs)\n",
    "    \n",
    "    #########################################\n",
    "\n",
    "    optimizer = keras.optimizers.SGD(lr=0.002, momentum=0.8)\n",
    "    loss = keras.losses.BinaryCrossentropy()\n",
    "\n",
    "    model.compile(\n",
    "        optimizer=optimizer,\n",
    "        loss=loss,\n",
    "        metrics=['accuracy']\n",
    "    )\n",
    "    \n",
    "    return model"
   ]
  },
  {
   "cell_type": "code",
   "execution_count": 124,
   "metadata": {},
   "outputs": [
    {
     "name": "stdout",
     "output_type": "stream",
     "text": [
      "Found 20000 images belonging to 2 classes.\n",
      "Found 5000 images belonging to 2 classes.\n"
     ]
    }
   ],
   "source": [
    "input_size=150\n",
    "\n",
    "train_gen = ImageDataGenerator(rescale=1./255)\n",
    "\n",
    "train_ds = train_gen.flow_from_directory(\n",
    "    './dogs-and-cats-dataset/train',\n",
    "    target_size=(input_size, input_size),\n",
    "    class_mode='binary',\n",
    "    batch_size=20\n",
    ")\n",
    "\n",
    "\n",
    "val_gen = ImageDataGenerator(rescale=1./255)\n",
    "\n",
    "val_ds = val_gen.flow_from_directory(\n",
    "    './dogs-and-cats-dataset/validation',\n",
    "    target_size=(input_size, input_size),\n",
    "    class_mode='binary',\n",
    "    batch_size=20,\n",
    "    shuffle=False\n",
    ")"
   ]
  },
  {
   "cell_type": "code",
   "execution_count": 125,
   "metadata": {},
   "outputs": [
    {
     "data": {
      "text/plain": [
       "{'cats': 0, 'dogs': 1}"
      ]
     },
     "execution_count": 125,
     "metadata": {},
     "output_type": "execute_result"
    }
   ],
   "source": [
    "train_ds.class_indices"
   ]
  },
  {
   "cell_type": "code",
   "execution_count": 126,
   "metadata": {},
   "outputs": [
    {
     "data": {
      "text/plain": [
       "{'cats': 0, 'dogs': 1}"
      ]
     },
     "execution_count": 126,
     "metadata": {},
     "output_type": "execute_result"
    }
   ],
   "source": [
    "val_ds.class_indices"
   ]
  },
  {
   "cell_type": "markdown",
   "metadata": {},
   "source": [
    "## Question 1"
   ]
  },
  {
   "cell_type": "markdown",
   "metadata": {},
   "source": [
    "Since we have a binary classification problem, **binary-cross-entropy** is the best loss function for us"
   ]
  },
  {
   "cell_type": "markdown",
   "metadata": {},
   "source": [
    "## Question 2"
   ]
  },
  {
   "cell_type": "code",
   "execution_count": 127,
   "metadata": {},
   "outputs": [
    {
     "name": "stdout",
     "output_type": "stream",
     "text": [
      "Model: \"model_22\"\n",
      "_________________________________________________________________\n",
      "Layer (type)                 Output Shape              Param #   \n",
      "=================================================================\n",
      "input_25 (InputLayer)        [(None, 150, 150, 3)]     0         \n",
      "_________________________________________________________________\n",
      "conv2d_27 (Conv2D)           (None, 148, 148, 32)      896       \n",
      "_________________________________________________________________\n",
      "max_pooling2d_27 (MaxPooling (None, 74, 74, 32)        0         \n",
      "_________________________________________________________________\n",
      "flatten_26 (Flatten)         (None, 175232)            0         \n",
      "_________________________________________________________________\n",
      "dense_51 (Dense)             (None, 64)                11214912  \n",
      "_________________________________________________________________\n",
      "dense_52 (Dense)             (None, 1)                 65        \n",
      "=================================================================\n",
      "Total params: 11,215,873\n",
      "Trainable params: 11,215,873\n",
      "Non-trainable params: 0\n",
      "_________________________________________________________________\n"
     ]
    }
   ],
   "source": [
    "model = make_model(input_size)\n",
    "model.summary()"
   ]
  },
  {
   "cell_type": "markdown",
   "metadata": {},
   "source": [
    "**Total params: 11,215,873**"
   ]
  },
  {
   "cell_type": "code",
   "execution_count": 128,
   "metadata": {},
   "outputs": [
    {
     "name": "stdout",
     "output_type": "stream",
     "text": [
      "Epoch 1/10\n",
      "100/100 [==============================] - 38s 379ms/step - loss: 0.6903 - accuracy: 0.5500 - val_loss: 0.6457 - val_accuracy: 0.6680\n",
      "Epoch 2/10\n",
      "100/100 [==============================] - 32s 319ms/step - loss: 0.6863 - accuracy: 0.5580 - val_loss: 0.8500 - val_accuracy: 0.0770\n",
      "Epoch 3/10\n",
      "100/100 [==============================] - 35s 346ms/step - loss: 0.6826 - accuracy: 0.5650 - val_loss: 0.7497 - val_accuracy: 0.2850\n",
      "Epoch 4/10\n",
      "100/100 [==============================] - 30s 297ms/step - loss: 0.6713 - accuracy: 0.5970 - val_loss: 0.6952 - val_accuracy: 0.5330\n",
      "Epoch 5/10\n",
      "100/100 [==============================] - 31s 305ms/step - loss: 0.6738 - accuracy: 0.5770 - val_loss: 0.6567 - val_accuracy: 0.6880\n",
      "Epoch 6/10\n",
      "100/100 [==============================] - 29s 289ms/step - loss: 0.6550 - accuracy: 0.6140 - val_loss: 0.7874 - val_accuracy: 0.3410\n",
      "Epoch 7/10\n",
      "100/100 [==============================] - 28s 284ms/step - loss: 0.6429 - accuracy: 0.6300 - val_loss: 0.6793 - val_accuracy: 0.5720\n",
      "Epoch 8/10\n",
      "100/100 [==============================] - 28s 283ms/step - loss: 0.6374 - accuracy: 0.6325 - val_loss: 0.7438 - val_accuracy: 0.4620\n",
      "Epoch 9/10\n",
      "100/100 [==============================] - 27s 275ms/step - loss: 0.6398 - accuracy: 0.6365 - val_loss: 0.4847 - val_accuracy: 0.8980\n",
      "Epoch 10/10\n",
      "100/100 [==============================] - 26s 263ms/step - loss: 0.6341 - accuracy: 0.6530 - val_loss: 0.6296 - val_accuracy: 0.6630\n"
     ]
    }
   ],
   "source": [
    "input_size = 150\n",
    "\n",
    "model = make_model(input_size)\n",
    "\n",
    "history = model.fit(\n",
    "    train_ds,\n",
    "    steps_per_epoch=100,\n",
    "    epochs=10,\n",
    "    validation_data=val_ds,\n",
    "    validation_steps=50\n",
    ")"
   ]
  },
  {
   "cell_type": "code",
   "execution_count": 129,
   "metadata": {},
   "outputs": [
    {
     "data": {
      "text/plain": [
       "<matplotlib.legend.Legend at 0x19309f9b4a8>"
      ]
     },
     "execution_count": 129,
     "metadata": {},
     "output_type": "execute_result"
    },
    {
     "data": {
      "image/png": "[encoded data removed]",
      "text/plain": [
       "<Figure size 432x288 with 1 Axes>"
      ]
     },
     "metadata": {
      "needs_background": "light"
     },
     "output_type": "display_data"
    }
   ],
   "source": [
    "hist = history.history\n",
    "plt.plot(hist['val_accuracy'], label='val')\n",
    "plt.plot(hist['accuracy'], label='train')\n",
    "\n",
    "plt.legend()"
   ]
  },
  {
   "cell_type": "markdown",
   "metadata": {},
   "source": [
    "## Question 3"
   ]
  },
  {
   "cell_type": "code",
   "execution_count": 130,
   "metadata": {},
   "outputs": [
    {
     "data": {
      "text/plain": [
       "0.6055000126361847"
      ]
     },
     "execution_count": 130,
     "metadata": {},
     "output_type": "execute_result"
    }
   ],
   "source": [
    "import statistics\n",
    "\n",
    "statistics.median(hist['accuracy'])"
   ]
  },
  {
   "cell_type": "markdown",
   "metadata": {},
   "source": [
    "**0.56**"
   ]
  },
  {
   "cell_type": "markdown",
   "metadata": {},
   "source": [
    "## Question 4"
   ]
  },
  {
   "cell_type": "code",
   "execution_count": 131,
   "metadata": {},
   "outputs": [
    {
     "data": {
      "text/plain": [
       "0.02193285159886279"
      ]
     },
     "execution_count": 131,
     "metadata": {},
     "output_type": "execute_result"
    }
   ],
   "source": [
    "statistics.stdev(hist['loss'])"
   ]
  },
  {
   "cell_type": "markdown",
   "metadata": {},
   "source": [
    "**0.01**"
   ]
  },
  {
   "cell_type": "code",
   "execution_count": 132,
   "metadata": {},
   "outputs": [
    {
     "name": "stdout",
     "output_type": "stream",
     "text": [
      "Found 20000 images belonging to 2 classes.\n",
      "Found 5000 images belonging to 2 classes.\n"
     ]
    }
   ],
   "source": [
    "input_size=150\n",
    "\n",
    "train_gen = ImageDataGenerator(rescale=1./255,\n",
    "                                rotation_range=40,\n",
    "                                width_shift_range=0.2,\n",
    "                                height_shift_range=0.2,\n",
    "                                shear_range=0.2,\n",
    "                                zoom_range=0.2,\n",
    "                                horizontal_flip=True,\n",
    "                                fill_mode='nearest')\n",
    "\n",
    "train_ds = train_gen.flow_from_directory(\n",
    "    './dogs-and-cats-dataset/train',\n",
    "    target_size=(input_size, input_size),\n",
    "    class_mode='binary',\n",
    "    batch_size=20\n",
    ")\n",
    "\n",
    "\n",
    "val_gen = ImageDataGenerator(rescale=1./255)\n",
    "\n",
    "val_ds = val_gen.flow_from_directory(\n",
    "    './dogs-and-cats-dataset/validation',\n",
    "    target_size=(input_size, input_size),\n",
    "    class_mode='binary',\n",
    "    batch_size=20,\n",
    "    shuffle=False\n",
    ")"
   ]
  },
  {
   "cell_type": "code",
   "execution_count": 133,
   "metadata": {},
   "outputs": [
    {
     "name": "stdout",
     "output_type": "stream",
     "text": [
      "Epoch 1/10\n",
      "100/100 [==============================] - 35s 346ms/step - loss: 0.6638 - accuracy: 0.6000 - val_loss: 0.5903 - val_accuracy: 0.7620\n",
      "Epoch 2/10\n",
      "100/100 [==============================] - 34s 340ms/step - loss: 0.6521 - accuracy: 0.6035 - val_loss: 0.6714 - val_accuracy: 0.6180\n",
      "Epoch 3/10\n",
      "100/100 [==============================] - 38s 379ms/step - loss: 0.6528 - accuracy: 0.6315 - val_loss: 0.7065 - val_accuracy: 0.5350\n",
      "Epoch 4/10\n",
      "100/100 [==============================] - 36s 361ms/step - loss: 0.6526 - accuracy: 0.6130 - val_loss: 0.5973 - val_accuracy: 0.7410\n",
      "Epoch 5/10\n",
      "100/100 [==============================] - 36s 357ms/step - loss: 0.6418 - accuracy: 0.6385 - val_loss: 0.5279 - val_accuracy: 0.8230\n",
      "Epoch 6/10\n",
      "100/100 [==============================] - 36s 364ms/step - loss: 0.6383 - accuracy: 0.6435 - val_loss: 0.8080 - val_accuracy: 0.4280\n",
      "Epoch 7/10\n",
      "100/100 [==============================] - 34s 341ms/step - loss: 0.6398 - accuracy: 0.6220 - val_loss: 0.6223 - val_accuracy: 0.7170\n",
      "Epoch 8/10\n",
      "100/100 [==============================] - 33s 330ms/step - loss: 0.6384 - accuracy: 0.6225 - val_loss: 0.5332 - val_accuracy: 0.8200\n",
      "Epoch 9/10\n",
      "100/100 [==============================] - 34s 344ms/step - loss: 0.6408 - accuracy: 0.6105 - val_loss: 0.6535 - val_accuracy: 0.6550\n",
      "Epoch 10/10\n",
      "100/100 [==============================] - 36s 362ms/step - loss: 0.6407 - accuracy: 0.6150 - val_loss: 0.8077 - val_accuracy: 0.4300\n"
     ]
    }
   ],
   "source": [
    "history = model.fit(\n",
    "    train_ds,\n",
    "    steps_per_epoch=100,\n",
    "    epochs=10,\n",
    "    validation_data=val_ds,\n",
    "    validation_steps=50\n",
    ")"
   ]
  },
  {
   "cell_type": "code",
   "execution_count": 134,
   "metadata": {},
   "outputs": [
    {
     "data": {
      "text/plain": [
       "<matplotlib.legend.Legend at 0x1930aa7ec18>"
      ]
     },
     "execution_count": 134,
     "metadata": {},
     "output_type": "execute_result"
    },
    {
     "data": {
      "image/png": "[encoded data removed]",
      "text/plain": [
       "<Figure size 432x288 with 1 Axes>"
      ]
     },
     "metadata": {
      "needs_background": "light"
     },
     "output_type": "display_data"
    }
   ],
   "source": [
    "hist = history.history\n",
    "plt.plot(hist['val_accuracy'], label='val')\n",
    "plt.plot(hist['accuracy'], label='train')\n",
    "\n",
    "plt.legend()"
   ]
  },
  {
   "cell_type": "markdown",
   "metadata": {},
   "source": [
    "## Question 5"
   ]
  },
  {
   "cell_type": "code",
   "execution_count": 135,
   "metadata": {},
   "outputs": [
    {
     "data": {
      "text/plain": [
       "0.6518030643463135"
      ]
     },
     "execution_count": 135,
     "metadata": {},
     "output_type": "execute_result"
    }
   ],
   "source": [
    "statistics.mean(hist['val_loss'])"
   ]
  },
  {
   "cell_type": "markdown",
   "metadata": {},
   "source": [
    "**0.67**"
   ]
  },
  {
   "cell_type": "markdown",
   "metadata": {},
   "source": [
    "## Question 6"
   ]
  },
  {
   "cell_type": "code",
   "execution_count": 136,
   "metadata": {},
   "outputs": [
    {
     "data": {
      "text/plain": [
       "0.6099999964237213"
      ]
     },
     "execution_count": 136,
     "metadata": {},
     "output_type": "execute_result"
    }
   ],
   "source": [
    "def Average(lst):\n",
    "    return sum(lst) / len(lst)\n",
    "\n",
    "Average(hist['val_accuracy'][5:10])"
   ]
  },
  {
   "cell_type": "markdown",
   "metadata": {},
   "source": [
    "**0.65**"
   ]
  }
 ],
 "metadata": {
  "kernelspec": {
   "display_name": "Python 3",
   "language": "python",
   "name": "python3"
  },
  "language_info": {
   "codemirror_mode": {
    "name": "ipython",
    "version": 3
   },
   "file_extension": ".py",
   "mimetype": "text/x-python",
   "name": "python",
   "nbconvert_exporter": "python",
   "pygments_lexer": "ipython3",
   "version": "3.6.4"
  }
 },
 "nbformat": 4,
 "nbformat_minor": 2
}
