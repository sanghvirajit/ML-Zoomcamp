{
 "cells": [
  {
   "cell_type": "code",
   "execution_count": 2,
   "metadata": {},
   "outputs": [
    {
     "data": {
      "application/javascript": [
       "IPython.notebook.set_autosave_interval(0)"
      ]
     },
     "metadata": {},
     "output_type": "display_data"
    },
    {
     "name": "stdout",
     "output_type": "stream",
     "text": [
      "Autosave disabled\n"
     ]
    }
   ],
   "source": [
    "%autosave 0"
   ]
  },
  {
   "cell_type": "code",
   "execution_count": 10,
   "metadata": {},
   "outputs": [
    {
     "name": "stdout",
     "output_type": "stream",
     "text": [
      "Requirement already satisfied: grpcio==1.42.0 in c:\\users\\rajit_sanghvi\\anaconda3\\lib\\site-packages (1.42.0)\n",
      "Collecting tensorflow-serving-api==2.6.2\n",
      "  Downloading tensorflow_serving_api-2.6.2-py2.py3-none-any.whl (37 kB)\n",
      "Requirement already satisfied: six>=1.5.2 in c:\\users\\rajit_sanghvi\\anaconda3\\lib\\site-packages (from grpcio==1.42.0) (1.15.0)\n",
      "Requirement already satisfied: tensorflow<3,>=2.6.2 in c:\\users\\rajit_sanghvi\\anaconda3\\lib\\site-packages (from tensorflow-serving-api==2.6.2) (2.6.2)\n",
      "Requirement already satisfied: protobuf>=3.6.0 in c:\\users\\rajit_sanghvi\\anaconda3\\lib\\site-packages (from tensorflow-serving-api==2.6.2) (3.11.4)\n",
      "Requirement already satisfied: setuptools in c:\\users\\rajit_sanghvi\\anaconda3\\lib\\site-packages (from protobuf>=3.6.0->tensorflow-serving-api==2.6.2) (45.2.0.post20200210)\n",
      "Requirement already satisfied: absl-py~=0.10 in c:\\users\\rajit_sanghvi\\anaconda3\\lib\\site-packages (from tensorflow<3,>=2.6.2->tensorflow-serving-api==2.6.2) (0.15.0)\n",
      "Requirement already satisfied: keras-preprocessing~=1.1.2 in c:\\users\\rajit_sanghvi\\appdata\\roaming\\python\\python36\\site-packages (from tensorflow<3,>=2.6.2->tensorflow-serving-api==2.6.2) (1.1.2)\n",
      "Requirement already satisfied: tensorflow-estimator<2.7,>=2.6.0 in c:\\users\\rajit_sanghvi\\anaconda3\\lib\\site-packages (from tensorflow<3,>=2.6.2->tensorflow-serving-api==2.6.2) (2.6.0)\n",
      "Requirement already satisfied: keras<2.7,>=2.6.0 in c:\\users\\rajit_sanghvi\\anaconda3\\lib\\site-packages (from tensorflow<3,>=2.6.2->tensorflow-serving-api==2.6.2) (2.6.0)\n",
      "Requirement already satisfied: typing-extensions~=3.7.4 in c:\\users\\rajit_sanghvi\\anaconda3\\lib\\site-packages (from tensorflow<3,>=2.6.2->tensorflow-serving-api==2.6.2) (3.7.4.3)\n",
      "Requirement already satisfied: flatbuffers~=1.12.0 in c:\\users\\rajit_sanghvi\\anaconda3\\lib\\site-packages (from tensorflow<3,>=2.6.2->tensorflow-serving-api==2.6.2) (1.12)\n",
      "Requirement already satisfied: termcolor~=1.1.0 in c:\\users\\rajit_sanghvi\\anaconda3\\lib\\site-packages (from tensorflow<3,>=2.6.2->tensorflow-serving-api==2.6.2) (1.1.0)\n",
      "Requirement already satisfied: h5py~=3.1.0 in c:\\users\\rajit_sanghvi\\anaconda3\\lib\\site-packages (from tensorflow<3,>=2.6.2->tensorflow-serving-api==2.6.2) (3.1.0)\n",
      "Requirement already satisfied: tensorboard<2.7,>=2.6.0 in c:\\users\\rajit_sanghvi\\anaconda3\\lib\\site-packages (from tensorflow<3,>=2.6.2->tensorflow-serving-api==2.6.2) (2.6.0)\n",
      "Requirement already satisfied: numpy~=1.19.2 in c:\\users\\rajit_sanghvi\\anaconda3\\lib\\site-packages (from tensorflow<3,>=2.6.2->tensorflow-serving-api==2.6.2) (1.19.5)\n",
      "Requirement already satisfied: clang~=5.0 in c:\\users\\rajit_sanghvi\\anaconda3\\lib\\site-packages (from tensorflow<3,>=2.6.2->tensorflow-serving-api==2.6.2) (5.0)\n",
      "Requirement already satisfied: astunparse~=1.6.3 in c:\\users\\rajit_sanghvi\\anaconda3\\lib\\site-packages (from tensorflow<3,>=2.6.2->tensorflow-serving-api==2.6.2) (1.6.3)\n",
      "Requirement already satisfied: gast==0.4.0 in c:\\users\\rajit_sanghvi\\anaconda3\\lib\\site-packages (from tensorflow<3,>=2.6.2->tensorflow-serving-api==2.6.2) (0.4.0)\n",
      "Requirement already satisfied: wrapt~=1.12.1 in c:\\users\\rajit_sanghvi\\anaconda3\\lib\\site-packages (from tensorflow<3,>=2.6.2->tensorflow-serving-api==2.6.2) (1.12.1)\n",
      "Requirement already satisfied: wheel~=0.35 in c:\\users\\rajit_sanghvi\\anaconda3\\lib\\site-packages (from tensorflow<3,>=2.6.2->tensorflow-serving-api==2.6.2) (0.37.0)\n",
      "Requirement already satisfied: google-pasta~=0.2 in c:\\users\\rajit_sanghvi\\anaconda3\\lib\\site-packages (from tensorflow<3,>=2.6.2->tensorflow-serving-api==2.6.2) (0.2.0)\n",
      "Requirement already satisfied: opt-einsum~=3.3.0 in c:\\users\\rajit_sanghvi\\anaconda3\\lib\\site-packages (from tensorflow<3,>=2.6.2->tensorflow-serving-api==2.6.2) (3.3.0)\n",
      "Requirement already satisfied: cached-property in c:\\users\\rajit_sanghvi\\anaconda3\\lib\\site-packages (from h5py~=3.1.0->tensorflow<3,>=2.6.2->tensorflow-serving-api==2.6.2) (1.5.2)\n",
      "Requirement already satisfied: requests<3,>=2.21.0 in c:\\users\\rajit_sanghvi\\appdata\\roaming\\python\\python36\\site-packages (from tensorboard<2.7,>=2.6.0->tensorflow<3,>=2.6.2->tensorflow-serving-api==2.6.2) (2.24.0)\n",
      "Requirement already satisfied: tensorboard-plugin-wit>=1.6.0 in c:\\users\\rajit_sanghvi\\appdata\\roaming\\python\\python36\\site-packages (from tensorboard<2.7,>=2.6.0->tensorflow<3,>=2.6.2->tensorflow-serving-api==2.6.2) (1.7.0)\n",
      "Requirement already satisfied: werkzeug>=0.11.15 in c:\\users\\rajit_sanghvi\\anaconda3\\lib\\site-packages (from tensorboard<2.7,>=2.6.0->tensorflow<3,>=2.6.2->tensorflow-serving-api==2.6.2) (0.14.1)\n",
      "Requirement already satisfied: google-auth-oauthlib<0.5,>=0.4.1 in c:\\users\\rajit_sanghvi\\appdata\\roaming\\python\\python36\\site-packages (from tensorboard<2.7,>=2.6.0->tensorflow<3,>=2.6.2->tensorflow-serving-api==2.6.2) (0.4.1)\n",
      "Requirement already satisfied: markdown>=2.6.8 in c:\\users\\rajit_sanghvi\\anaconda3\\lib\\site-packages (from tensorboard<2.7,>=2.6.0->tensorflow<3,>=2.6.2->tensorflow-serving-api==2.6.2) (3.1.1)\n",
      "Requirement already satisfied: tensorboard-data-server<0.7.0,>=0.6.0 in c:\\users\\rajit_sanghvi\\anaconda3\\lib\\site-packages (from tensorboard<2.7,>=2.6.0->tensorflow<3,>=2.6.2->tensorflow-serving-api==2.6.2) (0.6.1)\n",
      "Requirement already satisfied: google-auth<2,>=1.6.3 in c:\\users\\rajit_sanghvi\\appdata\\roaming\\python\\python36\\site-packages (from tensorboard<2.7,>=2.6.0->tensorflow<3,>=2.6.2->tensorflow-serving-api==2.6.2) (1.21.2)\n",
      "Requirement already satisfied: rsa<5,>=3.1.4 in c:\\users\\rajit_sanghvi\\appdata\\roaming\\python\\python36\\site-packages (from google-auth<2,>=1.6.3->tensorboard<2.7,>=2.6.0->tensorflow<3,>=2.6.2->tensorflow-serving-api==2.6.2) (4.6)\n",
      "Requirement already satisfied: pyasn1-modules>=0.2.1 in c:\\users\\rajit_sanghvi\\appdata\\roaming\\python\\python36\\site-packages (from google-auth<2,>=1.6.3->tensorboard<2.7,>=2.6.0->tensorflow<3,>=2.6.2->tensorflow-serving-api==2.6.2) (0.2.8)\n",
      "Requirement already satisfied: cachetools<5.0,>=2.0.0 in c:\\users\\rajit_sanghvi\\appdata\\roaming\\python\\python36\\site-packages (from google-auth<2,>=1.6.3->tensorboard<2.7,>=2.6.0->tensorflow<3,>=2.6.2->tensorflow-serving-api==2.6.2) (4.1.1)\n",
      "Requirement already satisfied: requests-oauthlib>=0.7.0 in c:\\users\\rajit_sanghvi\\appdata\\roaming\\python\\python36\\site-packages (from google-auth-oauthlib<0.5,>=0.4.1->tensorboard<2.7,>=2.6.0->tensorflow<3,>=2.6.2->tensorflow-serving-api==2.6.2) (1.3.0)\n",
      "Requirement already satisfied: idna<3,>=2.5 in c:\\users\\rajit_sanghvi\\anaconda3\\lib\\site-packages (from requests<3,>=2.21.0->tensorboard<2.7,>=2.6.0->tensorflow<3,>=2.6.2->tensorflow-serving-api==2.6.2) (2.6)\n",
      "Requirement already satisfied: chardet<4,>=3.0.2 in c:\\users\\rajit_sanghvi\\anaconda3\\lib\\site-packages (from requests<3,>=2.21.0->tensorboard<2.7,>=2.6.0->tensorflow<3,>=2.6.2->tensorflow-serving-api==2.6.2) (3.0.4)\n",
      "Requirement already satisfied: urllib3!=1.25.0,!=1.25.1,<1.26,>=1.21.1 in c:\\users\\rajit_sanghvi\\anaconda3\\lib\\site-packages (from requests<3,>=2.21.0->tensorboard<2.7,>=2.6.0->tensorflow<3,>=2.6.2->tensorflow-serving-api==2.6.2) (1.25.11)\n",
      "Requirement already satisfied: certifi>=2017.4.17 in c:\\users\\rajit_sanghvi\\anaconda3\\lib\\site-packages (from requests<3,>=2.21.0->tensorboard<2.7,>=2.6.0->tensorflow<3,>=2.6.2->tensorflow-serving-api==2.6.2) (2021.5.30)\n",
      "Requirement already satisfied: pyasn1<0.5.0,>=0.4.6 in c:\\users\\rajit_sanghvi\\appdata\\roaming\\python\\python36\\site-packages (from pyasn1-modules>=0.2.1->google-auth<2,>=1.6.3->tensorboard<2.7,>=2.6.0->tensorflow<3,>=2.6.2->tensorflow-serving-api==2.6.2) (0.4.8)\n",
      "Requirement already satisfied: oauthlib>=3.0.0 in c:\\users\\rajit_sanghvi\\appdata\\roaming\\python\\python36\\site-packages (from requests-oauthlib>=0.7.0->google-auth-oauthlib<0.5,>=0.4.1->tensorboard<2.7,>=2.6.0->tensorflow<3,>=2.6.2->tensorflow-serving-api==2.6.2) (3.1.0)\n",
      "Installing collected packages: tensorflow-serving-api\n",
      "Successfully installed tensorflow-serving-api-2.6.2\n"
     ]
    },
    {
     "name": "stderr",
     "output_type": "stream",
     "text": [
      "WARNING: Ignoring invalid distribution -ython-dateutil (c:\\users\\rajit_sanghvi\\anaconda3\\lib\\site-packages)\n",
      "WARNING: Ignoring invalid distribution -umpy (c:\\users\\rajit_sanghvi\\anaconda3\\lib\\site-packages)\n",
      "WARNING: Ignoring invalid distribution -ython-dateutil (c:\\users\\rajit_sanghvi\\anaconda3\\lib\\site-packages)\n",
      "WARNING: Ignoring invalid distribution -umpy (c:\\users\\rajit_sanghvi\\anaconda3\\lib\\site-packages)\n",
      "WARNING: Ignoring invalid distribution -ython-dateutil (c:\\users\\rajit_sanghvi\\anaconda3\\lib\\site-packages)\n",
      "WARNING: Ignoring invalid distribution -umpy (c:\\users\\rajit_sanghvi\\anaconda3\\lib\\site-packages)\n",
      "WARNING: Ignoring invalid distribution -ython-dateutil (c:\\users\\rajit_sanghvi\\anaconda3\\lib\\site-packages)\n",
      "WARNING: Ignoring invalid distribution -umpy (c:\\users\\rajit_sanghvi\\anaconda3\\lib\\site-packages)\n",
      "WARNING: Ignoring invalid distribution -ython-dateutil (c:\\users\\rajit_sanghvi\\anaconda3\\lib\\site-packages)\n",
      "WARNING: Ignoring invalid distribution -umpy (c:\\users\\rajit_sanghvi\\anaconda3\\lib\\site-packages)\n",
      "WARNING: Ignoring invalid distribution -ython-dateutil (c:\\users\\rajit_sanghvi\\anaconda3\\lib\\site-packages)\n",
      "WARNING: Ignoring invalid distribution -umpy (c:\\users\\rajit_sanghvi\\anaconda3\\lib\\site-packages)\n"
     ]
    }
   ],
   "source": [
    "!pip install grpcio==1.42.0 tensorflow-serving-api==2.6.2"
   ]
  },
  {
   "cell_type": "code",
   "execution_count": 11,
   "metadata": {},
   "outputs": [
    {
     "name": "stdout",
     "output_type": "stream",
     "text": [
      "Requirement already satisfied: keras-image-helper in c:\\users\\rajit_sanghvi\\anaconda3\\lib\\site-packages (0.0.1)\n",
      "Requirement already satisfied: numpy in c:\\users\\rajit_sanghvi\\anaconda3\\lib\\site-packages (from keras-image-helper) (1.19.5)\n",
      "Requirement already satisfied: pillow in c:\\users\\rajit_sanghvi\\anaconda3\\lib\\site-packages (from keras-image-helper) (8.1.0)\n"
     ]
    },
    {
     "name": "stderr",
     "output_type": "stream",
     "text": [
      "WARNING: Ignoring invalid distribution -ython-dateutil (c:\\users\\rajit_sanghvi\\anaconda3\\lib\\site-packages)\n",
      "WARNING: Ignoring invalid distribution -umpy (c:\\users\\rajit_sanghvi\\anaconda3\\lib\\site-packages)\n",
      "WARNING: Ignoring invalid distribution -ython-dateutil (c:\\users\\rajit_sanghvi\\anaconda3\\lib\\site-packages)\n",
      "WARNING: Ignoring invalid distribution -umpy (c:\\users\\rajit_sanghvi\\anaconda3\\lib\\site-packages)\n",
      "WARNING: Ignoring invalid distribution -ython-dateutil (c:\\users\\rajit_sanghvi\\anaconda3\\lib\\site-packages)\n",
      "WARNING: Ignoring invalid distribution -umpy (c:\\users\\rajit_sanghvi\\anaconda3\\lib\\site-packages)\n",
      "WARNING: Ignoring invalid distribution -ython-dateutil (c:\\users\\rajit_sanghvi\\anaconda3\\lib\\site-packages)\n",
      "WARNING: Ignoring invalid distribution -umpy (c:\\users\\rajit_sanghvi\\anaconda3\\lib\\site-packages)\n",
      "WARNING: Ignoring invalid distribution -ython-dateutil (c:\\users\\rajit_sanghvi\\anaconda3\\lib\\site-packages)\n",
      "WARNING: Ignoring invalid distribution -umpy (c:\\users\\rajit_sanghvi\\anaconda3\\lib\\site-packages)\n"
     ]
    }
   ],
   "source": [
    "!pip install keras-image-helper"
   ]
  },
  {
   "cell_type": "code",
   "execution_count": 13,
   "metadata": {},
   "outputs": [],
   "source": [
    "import grpc\n",
    "import tensorflow as tf\n",
    "from tensorflow_serving.apis import predict_pb2\n",
    "from tensorflow_serving.apis import prediction_service_pb2_grpc"
   ]
  },
  {
   "cell_type": "code",
   "execution_count": 14,
   "metadata": {},
   "outputs": [],
   "source": [
    "host = 'localhost:8500'\n",
    "channel = grpc.insecure_channel(host)\n",
    "stub = prediction_service_pb2_grpc.PredictionServiceStub(channel)"
   ]
  },
  {
   "cell_type": "code",
   "execution_count": 16,
   "metadata": {},
   "outputs": [],
   "source": [
    "from keras_image_helper import create_preprocessor\n",
    "\n",
    "preprocessor = create_preprocessor('xception', target_size=(299, 299))"
   ]
  },
  {
   "cell_type": "code",
   "execution_count": 17,
   "metadata": {},
   "outputs": [],
   "source": [
    "url = \"http://bit.ly/mlbookcamp-pants\"\n",
    "X = preprocessor.from_url(url)"
   ]
  },
  {
   "cell_type": "code",
   "execution_count": 18,
   "metadata": {},
   "outputs": [
    {
     "data": {
      "text/plain": [
       "(1, 299, 299, 3)"
      ]
     },
     "execution_count": 18,
     "metadata": {},
     "output_type": "execute_result"
    }
   ],
   "source": [
    "X.shape"
   ]
  },
  {
   "cell_type": "code",
   "execution_count": 19,
   "metadata": {},
   "outputs": [],
   "source": [
    "def np_to_protobuf(data):\n",
    "    return tf.make_tensor_proto(data, shape=data.shape)"
   ]
  },
  {
   "cell_type": "code",
   "execution_count": 20,
   "metadata": {},
   "outputs": [],
   "source": [
    "pb_request = predict_pb2.PredictRequest()\n",
    "\n",
    "pb_request.model_spec.name = 'clothing-model'\n",
    "pb_request.model_spec.signature_name = 'serving_default'\n",
    "pb_request.inputs['input_8'].CopyFrom(np_to_protobuf(X)) "
   ]
  },
  {
   "cell_type": "code",
   "execution_count": 21,
   "metadata": {},
   "outputs": [],
   "source": [
    "pb_result = stub.Predict(pb_request, timeout=20.0)"
   ]
  },
  {
   "cell_type": "code",
   "execution_count": 22,
   "metadata": {},
   "outputs": [],
   "source": [
    "pred = pb_result.outputs['dense_7'].float_val"
   ]
  },
  {
   "cell_type": "code",
   "execution_count": 23,
   "metadata": {},
   "outputs": [],
   "source": [
    "labels = [\n",
    "    'dress',\n",
    "    'hat',\n",
    "    'longsleeve',\n",
    "    'outwear',\n",
    "    'pants',\n",
    "    'shirt',\n",
    "    'shoes',\n",
    "    'shorts',\n",
    "    'skirt',\n",
    "    't-shirt'\n",
    "] \n",
    "\n",
    "result = {c: p for c, p in zip(labels, pred)}"
   ]
  },
  {
   "cell_type": "code",
   "execution_count": 24,
   "metadata": {},
   "outputs": [
    {
     "data": {
      "text/plain": [
       "{'dress': -1.8682901859283447,\n",
       " 'hat': -4.761244773864746,\n",
       " 'longsleeve': -2.316983461380005,\n",
       " 'outwear': -1.062570333480835,\n",
       " 'pants': 9.88715934753418,\n",
       " 'shirt': -2.8124334812164307,\n",
       " 'shoes': -3.666282892227173,\n",
       " 'shorts': 3.200361490249634,\n",
       " 'skirt': -2.6023383140563965,\n",
       " 't-shirt': -4.835045337677002}"
      ]
     },
     "execution_count": 24,
     "metadata": {},
     "output_type": "execute_result"
    }
   ],
   "source": [
    "result"
   ]
  },
  {
   "cell_type": "code",
   "execution_count": null,
   "metadata": {},
   "outputs": [],
   "source": []
  }
 ],
 "metadata": {
  "kernelspec": {
   "display_name": "Python 3",
   "language": "python",
   "name": "python3"
  },
  "language_info": {
   "codemirror_mode": {
    "name": "ipython",
    "version": 3
   },
   "file_extension": ".py",
   "mimetype": "text/x-python",
   "name": "python",
   "nbconvert_exporter": "python",
   "pygments_lexer": "ipython3",
   "version": "3.6.4"
  }
 },
 "nbformat": 4,
 "nbformat_minor": 2
}
